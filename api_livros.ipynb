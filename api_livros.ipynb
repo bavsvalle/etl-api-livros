{
 "cells": [
  {
   "cell_type": "code",
   "execution_count": 78,
   "id": "27eba104",
   "metadata": {},
   "outputs": [
    {
     "name": "stdout",
     "output_type": "stream",
     "text": [
      "                                          author_key  \\\n",
      "0                                         [OL19981A]   \n",
      "1                                         [OL53336A]   \n",
      "2                                         [OL23186A]   \n",
      "3  [OL115574A, OL2760531A, OL10790687A, OL13002189A]   \n",
      "4                                         [OL25930A]   \n",
      "\n",
      "                                         author_name  \\\n",
      "0                                     [Stephen King]   \n",
      "1                               [Desiderius Erasmus]   \n",
      "2                      [William Makepeace Thackeray]   \n",
      "3  [Abbé Prévost, F. C. Green, felix crespo, Pr&e...   \n",
      "4                                 [Charles Perrault]   \n",
      "\n",
      "                                        publish_year  \\\n",
      "0  [1996, 1997, 1998, 1999, 2000, 2001, 2002, 200...   \n",
      "1  [1536, 1540, 1549, 1557, 1560, 1617, 1636, 164...   \n",
      "2  [1800, 1847, 1848, 1849, 1850, 1865, 1867, 187...   \n",
      "3  [1734, 1753, 1787, 1800, 1839, 1840, 1841, 184...   \n",
      "4  [1675, 1697, 1723, 1729, 1741, 1742, 1764, 178...   \n",
      "\n",
      "                         title  \\\n",
      "0               The Green Mile   \n",
      "1               Moriæ Encomium   \n",
      "2                  Vanity Fair   \n",
      "3                Manon Lescaut   \n",
      "4  Les Contes de ma mère l'Oye   \n",
      "\n",
      "                                             subject  \n",
      "0  [horror fiction, fiction, death row inmates, p...  \n",
      "1  [Aspectos religiosos, Bibliography, Catalogs, ...  \n",
      "2  [Social life and customs, fiction, Women, fict...  \n",
      "3  [Fiction, History, France in fiction, French l...  \n",
      "4  [Nursery rhymes, France, Children's stories, F...  \n"
     ]
    }
   ],
   "source": [
    "import requests\n",
    "import pandas as pd\n",
    "\n",
    "# URL de base para a API de livros\n",
    "base_url = \"https://openlibrary.org/search.json\"\n",
    "\n",
    "# Parametros da requisição de acordo com documentação da API e necessidade do usuário\n",
    "params = {\n",
    "    \"q\": \"harry potter OR lords of the rings OR jane austen\",\n",
    "    \"fields\": \"title, publish_year, author_key, author_name, subject\",\n",
    "    \"sort\": \"rating\",\n",
    "    \"limit\": 10000\n",
    "}\n",
    "\n",
    "# Faz a requisição GET para a API com os parâmetros definidos\n",
    "response = requests.get(base_url, params=params)\n",
    "\n",
    "if response.status_code == 200: # Verifica se a requisição foi bem-sucedida, cód 200 padrão HTTP\n",
    "    data = response.json() # Converte a resposta JSON em um dicionário Python\n",
    "    livros = data[\"docs\"] # Cria objeto livros que contém apenas os dados que estão dentro da chave docs da resposta da API.\n",
    "    df_livros = pd.DataFrame(livros) # Cria um DataFrame pandas a partir da lista de livros\n",
    "    print(df_livros.head()) # Exibe as primeiras linhas do DataFrame com as colunas especificadas no fields\n",
    "else:\n",
    "    print(f\"Erro na requisição: {response.status_code}\")\n"
   ]
  },
  {
   "cell_type": "markdown",
   "id": "8c6cceef",
   "metadata": {},
   "source": [
    "Tratamento dos dados"
   ]
  },
  {
   "cell_type": "markdown",
   "id": "e66e7ebe",
   "metadata": {},
   "source": [
    "1. Entendendo os dados"
   ]
  },
  {
   "cell_type": "code",
   "execution_count": 79,
   "id": "3b7ac05d",
   "metadata": {},
   "outputs": [
    {
     "name": "stdout",
     "output_type": "stream",
     "text": [
      "<class 'pandas.core.frame.DataFrame'>\n",
      "RangeIndex: 25 entries, 0 to 24\n",
      "Data columns (total 5 columns):\n",
      " #   Column        Non-Null Count  Dtype \n",
      "---  ------        --------------  ----- \n",
      " 0   author_key    24 non-null     object\n",
      " 1   author_name   24 non-null     object\n",
      " 2   publish_year  25 non-null     object\n",
      " 3   title         25 non-null     object\n",
      " 4   subject       19 non-null     object\n",
      "dtypes: object(5)\n",
      "memory usage: 1.1+ KB\n"
     ]
    }
   ],
   "source": [
    "df_livros.info()"
   ]
  },
  {
   "cell_type": "code",
   "execution_count": 80,
   "id": "391c9865",
   "metadata": {},
   "outputs": [
    {
     "data": {
      "text/plain": [
       "Index(['author_key', 'author_name', 'publish_year', 'title', 'subject'], dtype='object')"
      ]
     },
     "execution_count": 80,
     "metadata": {},
     "output_type": "execute_result"
    }
   ],
   "source": [
    "df_livros.columns"
   ]
  },
  {
   "cell_type": "code",
   "execution_count": 81,
   "id": "9866ea75",
   "metadata": {},
   "outputs": [
    {
     "data": {
      "text/plain": [
       "(25, 5)"
      ]
     },
     "execution_count": 81,
     "metadata": {},
     "output_type": "execute_result"
    }
   ],
   "source": [
    "df_livros.shape"
   ]
  },
  {
   "cell_type": "code",
   "execution_count": 82,
   "id": "e1bd719e",
   "metadata": {},
   "outputs": [
    {
     "data": {
      "text/plain": [
       "author_key      1\n",
       "author_name     1\n",
       "publish_year    0\n",
       "title           0\n",
       "subject         6\n",
       "dtype: int64"
      ]
     },
     "execution_count": 82,
     "metadata": {},
     "output_type": "execute_result"
    }
   ],
   "source": [
    "df_livros.isnull().sum()"
   ]
  },
  {
   "cell_type": "markdown",
   "id": "458c4f3e",
   "metadata": {},
   "source": [
    "2. Normalizando os dados  \n",
    "2.1 Padronizando nulos"
   ]
  },
  {
   "cell_type": "code",
   "execution_count": 83,
   "id": "d950394b",
   "metadata": {},
   "outputs": [
    {
     "name": "stdout",
     "output_type": "stream",
     "text": [
      "                  author_key                                 author_name  \\\n",
      "10              [OL3454345A]                          [Chapin A. Harris]   \n",
      "14  [OL6010190A, OL9349345A]          [Chapin Aaron Harris, P H. Austen]   \n",
      "15              [OL2511721A]                            [Fransham, John]   \n",
      "16              [OL4289649A]                              [Ralph Harris]   \n",
      "17              [OL4339229A]  [Harris of High Cross, Ralph Harris Baron]   \n",
      "20               [OL983260A]                              [Ralph Harris]   \n",
      "\n",
      "    publish_year                                              title subject  \n",
      "10  [1875, 1895]           The principles and practice of dentistry     NaN  \n",
      "14        [2018]           The Principles and Practice of Dentistry     NaN  \n",
      "15  [1740, 1741]  The world in miniature: or, the entertaining t...     NaN  \n",
      "16        [1956]                         Politics without prejudice     NaN  \n",
      "17        [1956]                         Politics without prejudice     NaN  \n",
      "20        [1956]                         Politics without prejudice     NaN  \n"
     ]
    }
   ],
   "source": [
    "print(df_livros[df_livros['subject'].isnull()])"
   ]
  },
  {
   "cell_type": "code",
   "execution_count": 84,
   "id": "3196b8d2",
   "metadata": {},
   "outputs": [
    {
     "name": "stderr",
     "output_type": "stream",
     "text": [
      "C:\\Users\\basil\\AppData\\Local\\Temp\\ipykernel_41604\\2781930646.py:1: FutureWarning: A value is trying to be set on a copy of a DataFrame or Series through chained assignment using an inplace method.\n",
      "The behavior will change in pandas 3.0. This inplace method will never work because the intermediate object on which we are setting values always behaves as a copy.\n",
      "\n",
      "For example, when doing 'df[col].method(value, inplace=True)', try using 'df.method({col: value}, inplace=True)' or df[col] = df[col].method(value) instead, to perform the operation inplace on the original object.\n",
      "\n",
      "\n",
      "  df_livros['author_name'].fillna('Sem informação', inplace=True) # Preenche valores nulos com 'Sem informação'\n"
     ]
    },
    {
     "data": {
      "text/plain": [
       "author_key      1\n",
       "author_name     0\n",
       "publish_year    0\n",
       "title           0\n",
       "subject         6\n",
       "dtype: int64"
      ]
     },
     "execution_count": 84,
     "metadata": {},
     "output_type": "execute_result"
    }
   ],
   "source": [
    "df_livros['author_name'].fillna('Sem informação', inplace=True) # Preenche valores nulos com 'Sem informação'\n",
    "df_livros.isnull().sum()"
   ]
  },
  {
   "cell_type": "code",
   "execution_count": 85,
   "id": "675dda8d",
   "metadata": {},
   "outputs": [
    {
     "name": "stderr",
     "output_type": "stream",
     "text": [
      "C:\\Users\\basil\\AppData\\Local\\Temp\\ipykernel_41604\\795722335.py:1: FutureWarning: A value is trying to be set on a copy of a DataFrame or Series through chained assignment using an inplace method.\n",
      "The behavior will change in pandas 3.0. This inplace method will never work because the intermediate object on which we are setting values always behaves as a copy.\n",
      "\n",
      "For example, when doing 'df[col].method(value, inplace=True)', try using 'df.method({col: value}, inplace=True)' or df[col] = df[col].method(value) instead, to perform the operation inplace on the original object.\n",
      "\n",
      "\n",
      "  df_livros['subject'].fillna('Sem informação', inplace=True) # Preenche valores nulos com 'Sem informação'\n"
     ]
    },
    {
     "data": {
      "text/plain": [
       "author_key      1\n",
       "author_name     0\n",
       "publish_year    0\n",
       "title           0\n",
       "subject         0\n",
       "dtype: int64"
      ]
     },
     "execution_count": 85,
     "metadata": {},
     "output_type": "execute_result"
    }
   ],
   "source": [
    "df_livros['subject'].fillna('Sem informação', inplace=True) # Preenche valores nulos com 'Sem informação'\n",
    "df_livros.isnull().sum()"
   ]
  },
  {
   "cell_type": "markdown",
   "id": "e454b22a",
   "metadata": {},
   "source": [
    "2.2 Padronizando author_name"
   ]
  },
  {
   "cell_type": "code",
   "execution_count": null,
   "id": "b3d08538",
   "metadata": {},
   "outputs": [
    {
     "data": {
      "text/plain": [
       "author_name\n",
       "<class 'list'>    24\n",
       "<class 'str'>      1\n",
       "Name: count, dtype: int64"
      ]
     },
     "execution_count": 86,
     "metadata": {},
     "output_type": "execute_result"
    }
   ],
   "source": [
    "# Verifica os tipos de dados na coluna author_name\n",
    "df_livros['author_name'].apply(type).value_counts()"
   ]
  },
  {
   "cell_type": "code",
   "execution_count": null,
   "id": "28dc6c0c",
   "metadata": {},
   "outputs": [
    {
     "name": "stdout",
     "output_type": "stream",
     "text": [
      "^C\n"
     ]
    },
    {
     "data": {
      "text/html": [
       "<div>\n",
       "<style scoped>\n",
       "    .dataframe tbody tr th:only-of-type {\n",
       "        vertical-align: middle;\n",
       "    }\n",
       "\n",
       "    .dataframe tbody tr th {\n",
       "        vertical-align: top;\n",
       "    }\n",
       "\n",
       "    .dataframe thead th {\n",
       "        text-align: right;\n",
       "    }\n",
       "</style>\n",
       "<table border=\"1\" class=\"dataframe\">\n",
       "  <thead>\n",
       "    <tr style=\"text-align: right;\">\n",
       "      <th></th>\n",
       "      <th>author_key</th>\n",
       "      <th>author_name</th>\n",
       "      <th>publish_year</th>\n",
       "      <th>title</th>\n",
       "      <th>subject</th>\n",
       "      <th>autor_padronizado</th>\n",
       "    </tr>\n",
       "  </thead>\n",
       "  <tbody>\n",
       "    <tr>\n",
       "      <th>0</th>\n",
       "      <td>[OL19981A]</td>\n",
       "      <td>[Stephen King]</td>\n",
       "      <td>[1996, 1997, 1998, 1999, 2000, 2001, 2002, 200...</td>\n",
       "      <td>The Green Mile</td>\n",
       "      <td>[horror fiction, fiction, death row inmates, p...</td>\n",
       "      <td>[stephen king]</td>\n",
       "    </tr>\n",
       "    <tr>\n",
       "      <th>1</th>\n",
       "      <td>[OL53336A]</td>\n",
       "      <td>[Desiderius Erasmus]</td>\n",
       "      <td>[1536, 1540, 1549, 1557, 1560, 1617, 1636, 164...</td>\n",
       "      <td>Moriæ Encomium</td>\n",
       "      <td>[Aspectos religiosos, Bibliography, Catalogs, ...</td>\n",
       "      <td>[desiderius erasmus]</td>\n",
       "    </tr>\n",
       "    <tr>\n",
       "      <th>2</th>\n",
       "      <td>[OL23186A]</td>\n",
       "      <td>[William Makepeace Thackeray]</td>\n",
       "      <td>[1800, 1847, 1848, 1849, 1850, 1865, 1867, 187...</td>\n",
       "      <td>Vanity Fair</td>\n",
       "      <td>[Social life and customs, fiction, Women, fict...</td>\n",
       "      <td>[william makepeace thackeray]</td>\n",
       "    </tr>\n",
       "    <tr>\n",
       "      <th>3</th>\n",
       "      <td>[OL115574A, OL2760531A, OL10790687A, OL13002189A]</td>\n",
       "      <td>[Abbé Prévost, F. C. Green, felix crespo, Pr&amp;e...</td>\n",
       "      <td>[1734, 1753, 1787, 1800, 1839, 1840, 1841, 184...</td>\n",
       "      <td>Manon Lescaut</td>\n",
       "      <td>[Fiction, History, France in fiction, French l...</td>\n",
       "      <td>[abbe prevost, f. c. green, felix crespo, pr&amp;e...</td>\n",
       "    </tr>\n",
       "    <tr>\n",
       "      <th>4</th>\n",
       "      <td>[OL25930A]</td>\n",
       "      <td>[Charles Perrault]</td>\n",
       "      <td>[1675, 1697, 1723, 1729, 1741, 1742, 1764, 178...</td>\n",
       "      <td>Les Contes de ma mère l'Oye</td>\n",
       "      <td>[Nursery rhymes, France, Children's stories, F...</td>\n",
       "      <td>[charles perrault]</td>\n",
       "    </tr>\n",
       "  </tbody>\n",
       "</table>\n",
       "</div>"
      ],
      "text/plain": [
       "                                          author_key  \\\n",
       "0                                         [OL19981A]   \n",
       "1                                         [OL53336A]   \n",
       "2                                         [OL23186A]   \n",
       "3  [OL115574A, OL2760531A, OL10790687A, OL13002189A]   \n",
       "4                                         [OL25930A]   \n",
       "\n",
       "                                         author_name  \\\n",
       "0                                     [Stephen King]   \n",
       "1                               [Desiderius Erasmus]   \n",
       "2                      [William Makepeace Thackeray]   \n",
       "3  [Abbé Prévost, F. C. Green, felix crespo, Pr&e...   \n",
       "4                                 [Charles Perrault]   \n",
       "\n",
       "                                        publish_year  \\\n",
       "0  [1996, 1997, 1998, 1999, 2000, 2001, 2002, 200...   \n",
       "1  [1536, 1540, 1549, 1557, 1560, 1617, 1636, 164...   \n",
       "2  [1800, 1847, 1848, 1849, 1850, 1865, 1867, 187...   \n",
       "3  [1734, 1753, 1787, 1800, 1839, 1840, 1841, 184...   \n",
       "4  [1675, 1697, 1723, 1729, 1741, 1742, 1764, 178...   \n",
       "\n",
       "                         title  \\\n",
       "0               The Green Mile   \n",
       "1               Moriæ Encomium   \n",
       "2                  Vanity Fair   \n",
       "3                Manon Lescaut   \n",
       "4  Les Contes de ma mère l'Oye   \n",
       "\n",
       "                                             subject  \\\n",
       "0  [horror fiction, fiction, death row inmates, p...   \n",
       "1  [Aspectos religiosos, Bibliography, Catalogs, ...   \n",
       "2  [Social life and customs, fiction, Women, fict...   \n",
       "3  [Fiction, History, France in fiction, French l...   \n",
       "4  [Nursery rhymes, France, Children's stories, F...   \n",
       "\n",
       "                                   autor_padronizado  \n",
       "0                                     [stephen king]  \n",
       "1                               [desiderius erasmus]  \n",
       "2                      [william makepeace thackeray]  \n",
       "3  [abbe prevost, f. c. green, felix crespo, pr&e...  \n",
       "4                                 [charles perrault]  "
      ]
     },
     "execution_count": 87,
     "metadata": {},
     "output_type": "execute_result"
    },
    {
     "name": "stdout",
     "output_type": "stream",
     "text": [
      "Requirement already satisfied: unidecode in c:\\users\\basil\\appdata\\local\\programs\\python\\python313\\lib\\site-packages (1.4.0)\n"
     ]
    }
   ],
   "source": [
    "# Padroniza os nomes dos autores removendo acentuação e convertendo para minúsculas\n",
    "!pip install unidecode\n",
    "from unidecode import unidecode\n",
    "\n",
    "def padronizando_autor(autor): # Função chamada de 'padronizando_autor' para padronizar o parâmetro 'autor'\n",
    "    return unidecode(autor. lower()) # Função retorna o parâmetro 'autor' sem acentuação e em letras minúsculas\n",
    "\n",
    "# Cria uma nova coluna 'autor_padronizado' aplicando a função 'padronizando_autor' em cada elemento da coluna 'author_name'\n",
    "df_livros['autor_padronizado'] = df_livros['author_name'].apply(lambda x: [padronizando_autor(autor) for autor in x] if isinstance(x, list) else [])\n",
    "df_livros.head()"
   ]
  },
  {
   "cell_type": "code",
   "execution_count": null,
   "id": "93ea1164",
   "metadata": {},
   "outputs": [
    {
     "name": "stdout",
     "output_type": "stream",
     "text": [
      "0                                       [stephen king]\n",
      "1                                 [desiderius erasmus]\n",
      "2                        [william makepeace thackeray]\n",
      "3    [abbe prevost, f. c. green, felix crespo, pr&e...\n",
      "4                                   [charles perrault]\n",
      "Name: autor_padronizado, dtype: object\n"
     ]
    }
   ],
   "source": [
    "# Lista criada para incluir apenas os autores que estão em formato lista dentro do df_livros\n",
    "lista_autores = df_livros['autor_padronizado'][df_livros['autor_padronizado'].apply(lambda x: isinstance(x, list))]\n",
    "\n",
    "print(lista_autores[:5])"
   ]
  },
  {
   "cell_type": "code",
   "execution_count": null,
   "id": "1c5afd8c",
   "metadata": {},
   "outputs": [
    {
     "name": "stdout",
     "output_type": "stream",
     "text": [
      "['stephen king', 'desiderius erasmus', 'william makepeace thackeray', 'abbe prevost', 'f. c. green']\n"
     ]
    }
   ],
   "source": [
    "# Transformando a série de listas em uma lista contínua de nomes de autores\n",
    "lista_autores_continua = [] # Lista vazia para armazenar os autores\n",
    "for lista in lista_autores: # Para cada lista presente na lista_autores\n",
    "    lista_autores_continua.extend(lista) # Adicionar cada autor da lista à lista_autores_continua\n",
    "\n",
    "print(lista_autores_continua[:5])"
   ]
  },
  {
   "cell_type": "code",
   "execution_count": null,
   "id": "f5ccf11e",
   "metadata": {},
   "outputs": [
    {
     "name": "stdout",
     "output_type": "stream",
     "text": [
      "<class 'pandas.core.frame.DataFrame'>\n",
      "RangeIndex: 23 entries, 0 to 22\n",
      "Data columns (total 1 columns):\n",
      " #   Column  Non-Null Count  Dtype \n",
      "---  ------  --------------  ----- \n",
      " 0   autor   23 non-null     object\n",
      "dtypes: object(1)\n",
      "memory usage: 316.0+ bytes\n"
     ]
    }
   ],
   "source": [
    "# Cria um DataFrame com os autores únicos, ordenados alfabeticamente\n",
    "df_autores_unicos = pd.DataFrame(sorted(set(lista_autores_continua)), columns=['autor'])\n",
    "df_autores_unicos.info()"
   ]
  },
  {
   "cell_type": "code",
   "execution_count": null,
   "id": "4188bc75",
   "metadata": {},
   "outputs": [
    {
     "data": {
      "text/plain": [
       "autor\n",
       "<class 'str'>    23\n",
       "Name: count, dtype: int64"
      ]
     },
     "execution_count": 56,
     "metadata": {},
     "output_type": "execute_result"
    }
   ],
   "source": [
    "# Verifica os tipos de dados na coluna autor do DataFrame df_autores_unicos\n",
    "df_autores_unicos['autor'].apply(type).value_counts()"
   ]
  },
  {
   "cell_type": "markdown",
   "id": "2a2e1c81",
   "metadata": {},
   "source": [
    "2.3 Padronizando subtitle"
   ]
  },
  {
   "cell_type": "code",
   "execution_count": 93,
   "id": "6b3444cb",
   "metadata": {},
   "outputs": [
    {
     "data": {
      "text/html": [
       "<div>\n",
       "<style scoped>\n",
       "    .dataframe tbody tr th:only-of-type {\n",
       "        vertical-align: middle;\n",
       "    }\n",
       "\n",
       "    .dataframe tbody tr th {\n",
       "        vertical-align: top;\n",
       "    }\n",
       "\n",
       "    .dataframe thead th {\n",
       "        text-align: right;\n",
       "    }\n",
       "</style>\n",
       "<table border=\"1\" class=\"dataframe\">\n",
       "  <thead>\n",
       "    <tr style=\"text-align: right;\">\n",
       "      <th></th>\n",
       "      <th>author_key</th>\n",
       "      <th>author_name</th>\n",
       "      <th>publish_year</th>\n",
       "      <th>title</th>\n",
       "      <th>subject</th>\n",
       "      <th>autor_padronizado</th>\n",
       "      <th>assunto_padronizado</th>\n",
       "    </tr>\n",
       "  </thead>\n",
       "  <tbody>\n",
       "    <tr>\n",
       "      <th>0</th>\n",
       "      <td>OL19981A</td>\n",
       "      <td>Stephen King</td>\n",
       "      <td>1996, 1997, 1998, 1999, 2000, 2001, 2002, 2003...</td>\n",
       "      <td>The Green Mile</td>\n",
       "      <td>horror fiction, fiction, death row inmates, pr...</td>\n",
       "      <td>stephen king</td>\n",
       "      <td>[]</td>\n",
       "    </tr>\n",
       "    <tr>\n",
       "      <th>1</th>\n",
       "      <td>OL53336A</td>\n",
       "      <td>Desiderius Erasmus</td>\n",
       "      <td>1536, 1540, 1549, 1557, 1560, 1617, 1636, 1641...</td>\n",
       "      <td>Moriæ Encomium</td>\n",
       "      <td>Aspectos religiosos, Bibliography, Catalogs, C...</td>\n",
       "      <td>desiderius erasmus</td>\n",
       "      <td>[]</td>\n",
       "    </tr>\n",
       "    <tr>\n",
       "      <th>2</th>\n",
       "      <td>OL23186A</td>\n",
       "      <td>William Makepeace Thackeray</td>\n",
       "      <td>1800, 1847, 1848, 1849, 1850, 1865, 1867, 1873...</td>\n",
       "      <td>Vanity Fair</td>\n",
       "      <td>Social life and customs, fiction, Women, ficti...</td>\n",
       "      <td>william makepeace thackeray</td>\n",
       "      <td>[]</td>\n",
       "    </tr>\n",
       "    <tr>\n",
       "      <th>3</th>\n",
       "      <td>OL115574A, OL2760531A, OL10790687A, OL13002189A</td>\n",
       "      <td>Abbé Prévost, F. C. Green, felix crespo, Pr&amp;ea...</td>\n",
       "      <td>1734, 1753, 1787, 1800, 1839, 1840, 1841, 1849...</td>\n",
       "      <td>Manon Lescaut</td>\n",
       "      <td>Fiction, History, France in fiction, French la...</td>\n",
       "      <td>abbe prevost, f. c. green, felix crespo, pr&amp;ea...</td>\n",
       "      <td>[]</td>\n",
       "    </tr>\n",
       "    <tr>\n",
       "      <th>4</th>\n",
       "      <td>OL25930A</td>\n",
       "      <td>Charles Perrault</td>\n",
       "      <td>1675, 1697, 1723, 1729, 1741, 1742, 1764, 1780...</td>\n",
       "      <td>Les Contes de ma mère l'Oye</td>\n",
       "      <td>Nursery rhymes, France, Children's stories, Fr...</td>\n",
       "      <td>charles perrault</td>\n",
       "      <td>[]</td>\n",
       "    </tr>\n",
       "  </tbody>\n",
       "</table>\n",
       "</div>"
      ],
      "text/plain": [
       "                                        author_key  \\\n",
       "0                                         OL19981A   \n",
       "1                                         OL53336A   \n",
       "2                                         OL23186A   \n",
       "3  OL115574A, OL2760531A, OL10790687A, OL13002189A   \n",
       "4                                         OL25930A   \n",
       "\n",
       "                                         author_name  \\\n",
       "0                                       Stephen King   \n",
       "1                                 Desiderius Erasmus   \n",
       "2                        William Makepeace Thackeray   \n",
       "3  Abbé Prévost, F. C. Green, felix crespo, Pr&ea...   \n",
       "4                                   Charles Perrault   \n",
       "\n",
       "                                        publish_year  \\\n",
       "0  1996, 1997, 1998, 1999, 2000, 2001, 2002, 2003...   \n",
       "1  1536, 1540, 1549, 1557, 1560, 1617, 1636, 1641...   \n",
       "2  1800, 1847, 1848, 1849, 1850, 1865, 1867, 1873...   \n",
       "3  1734, 1753, 1787, 1800, 1839, 1840, 1841, 1849...   \n",
       "4  1675, 1697, 1723, 1729, 1741, 1742, 1764, 1780...   \n",
       "\n",
       "                         title  \\\n",
       "0               The Green Mile   \n",
       "1               Moriæ Encomium   \n",
       "2                  Vanity Fair   \n",
       "3                Manon Lescaut   \n",
       "4  Les Contes de ma mère l'Oye   \n",
       "\n",
       "                                             subject  \\\n",
       "0  horror fiction, fiction, death row inmates, pr...   \n",
       "1  Aspectos religiosos, Bibliography, Catalogs, C...   \n",
       "2  Social life and customs, fiction, Women, ficti...   \n",
       "3  Fiction, History, France in fiction, French la...   \n",
       "4  Nursery rhymes, France, Children's stories, Fr...   \n",
       "\n",
       "                                   autor_padronizado assunto_padronizado  \n",
       "0                                       stephen king                  []  \n",
       "1                                 desiderius erasmus                  []  \n",
       "2                        william makepeace thackeray                  []  \n",
       "3  abbe prevost, f. c. green, felix crespo, pr&ea...                  []  \n",
       "4                                   charles perrault                  []  "
      ]
     },
     "execution_count": 93,
     "metadata": {},
     "output_type": "execute_result"
    }
   ],
   "source": [
    "def padronizando_assunto(assunto): # Função chamada de 'padronizando_assunto' para padronizar o parâmetro 'assunto'\n",
    "    return unidecode(assunto.lower()) # Função retorna o parâmetro 'assunto' sem acentuação e em letras minúsculas\n",
    "\n",
    "\n",
    "# Cria uma nova coluna 'assunto_padronizado' aplicando a função 'padronizando_assunto' em cada elemento da coluna 'subject'\n",
    "df_livros['assunto_padronizado'] = df_livros[ 'subject'].apply(lambda x: [padronizando_assunto(assunto) for assunto in x] if isinstance(x, list) else [])\n",
    "df_livros.head()"
   ]
  },
  {
   "cell_type": "code",
   "execution_count": null,
   "id": "4b48242b",
   "metadata": {},
   "outputs": [
    {
     "name": "stdout",
     "output_type": "stream",
     "text": [
      "✅ Todos os valores são listas.\n"
     ]
    }
   ],
   "source": [
    "# Verifica se há algum valor que não seja lista\n",
    "nao_lista = df_livros['assunto_padronizado'].apply(lambda x: not isinstance(x, list))\n",
    "\n",
    "# Se houver pelo menos um valor que não seja lista, mostra as linhas\n",
    "if nao_lista.any():\n",
    "    print(\"Existem valores que não são listas.\")\n",
    "    print(df_livros.loc[nao_lista, 'assunto_padronizado'].head())\n",
    "else:\n",
    "    print(\"Todos os valores são listas.\")"
   ]
  },
  {
   "cell_type": "code",
   "execution_count": null,
   "id": "7cdb810d",
   "metadata": {},
   "outputs": [
    {
     "name": "stdout",
     "output_type": "stream",
     "text": [
      "0    [horror fiction, fiction, death row inmates, p...\n",
      "1    [aspectos religiosos, bibliography, catalogs, ...\n",
      "2    [social life and customs, fiction, women, fict...\n",
      "3    [fiction, history, france in fiction, french l...\n",
      "4    [nursery rhymes, france, children's stories, f...\n",
      "Name: assunto_padronizado, dtype: object\n"
     ]
    }
   ],
   "source": [
    "# Lista criada para incluir apenas os assuntos que estão em formato lista dentro do df_livros\n",
    "lista_assuntos = df_livros['assunto_padronizado'][df_livros['assunto_padronizado'].apply(lambda x: isinstance(x, list))]\n",
    "print(lista_assuntos[:5])\n"
   ]
  },
  {
   "cell_type": "code",
   "execution_count": null,
   "id": "07764445",
   "metadata": {},
   "outputs": [
    {
     "name": "stdout",
     "output_type": "stream",
     "text": [
      "['horror fiction', 'fiction', 'death row inmates', 'prisons', 'executions and executioners']\n"
     ]
    }
   ],
   "source": [
    "lista_assuntos_continua = [] # Lista vazia para armazenar os assuntos\n",
    "for lista in lista_assuntos: # Para cada lista presente na lista_assuntos\n",
    "    lista_assuntos_continua.extend(lista) # Adicionar cada assunto da lista à lista_assuntos_continua\n",
    "\n",
    "print(lista_assuntos_continua[:5])"
   ]
  },
  {
   "cell_type": "code",
   "execution_count": null,
   "id": "769255fa",
   "metadata": {},
   "outputs": [
    {
     "name": "stdout",
     "output_type": "stream",
     "text": [
      "<class 'pandas.core.frame.DataFrame'>\n",
      "RangeIndex: 286 entries, 0 to 285\n",
      "Data columns (total 1 columns):\n",
      " #   Column   Non-Null Count  Dtype \n",
      "---  ------   --------------  ----- \n",
      " 0   assunto  286 non-null    object\n",
      "dtypes: object(1)\n",
      "memory usage: 2.4+ KB\n"
     ]
    }
   ],
   "source": [
    "df_assuntos_unicos = pd.DataFrame(sorted(set(lista_assuntos_continua)), columns=['assunto'])\n",
    "df_assuntos_unicos.info()"
   ]
  },
  {
   "cell_type": "code",
   "execution_count": null,
   "id": "656f9ae4",
   "metadata": {},
   "outputs": [
    {
     "data": {
      "text/plain": [
       "assunto\n",
       "<class 'str'>    286\n",
       "Name: count, dtype: int64"
      ]
     },
     "execution_count": 62,
     "metadata": {},
     "output_type": "execute_result"
    }
   ],
   "source": [
    "df_assuntos_unicos['assunto'].apply(type).value_counts()"
   ]
  },
  {
   "cell_type": "markdown",
   "id": "b3895474",
   "metadata": {},
   "source": [
    "2.4 Padronizando publish_year"
   ]
  },
  {
   "cell_type": "code",
   "execution_count": null,
   "id": "84af9c2c",
   "metadata": {},
   "outputs": [
    {
     "name": "stdout",
     "output_type": "stream",
     "text": [
      "0    [1996, 1997, 1998, 1999, 2000, 2001, 2002, 200...\n",
      "1    [1536, 1540, 1549, 1557, 1560, 1617, 1636, 164...\n",
      "2    [1800, 1847, 1848, 1849, 1850, 1865, 1867, 187...\n",
      "3    [1734, 1753, 1787, 1800, 1839, 1840, 1841, 184...\n",
      "4    [1675, 1697, 1723, 1729, 1741, 1742, 1764, 178...\n",
      "Name: publish_year, dtype: object\n"
     ]
    }
   ],
   "source": [
    "lista_anos = df_livros['publish_year'][df_livros['publish_year'].apply(lambda x: isinstance(x, list))]\n",
    "print(lista_anos[:5])"
   ]
  },
  {
   "cell_type": "code",
   "execution_count": null,
   "id": "6432f43e",
   "metadata": {},
   "outputs": [
    {
     "name": "stdout",
     "output_type": "stream",
     "text": [
      "[1996, 1997, 1998, 1999, 2000]\n"
     ]
    }
   ],
   "source": [
    "lista_anos_continua = [] # Lista vazia para armazenar os anos\n",
    "for lista in lista_anos: # Para cada lista presente na lista_anos\n",
    "    lista_anos_continua.extend(lista) # Adicionar cada ano da lista à lista_anos_continua\n",
    "\n",
    "print(lista_anos_continua[:5])"
   ]
  },
  {
   "cell_type": "code",
   "execution_count": null,
   "id": "1385d510",
   "metadata": {},
   "outputs": [
    {
     "name": "stdout",
     "output_type": "stream",
     "text": [
      "<class 'pandas.core.frame.DataFrame'>\n",
      "RangeIndex: 276 entries, 0 to 275\n",
      "Data columns (total 1 columns):\n",
      " #   Column  Non-Null Count  Dtype\n",
      "---  ------  --------------  -----\n",
      " 0   ano     276 non-null    int64\n",
      "dtypes: int64(1)\n",
      "memory usage: 2.3 KB\n"
     ]
    }
   ],
   "source": [
    "df_anos_unicos = pd.DataFrame(sorted((set(lista_anos_continua))), columns=['ano'])\n",
    "df_anos_unicos.info()\n"
   ]
  },
  {
   "cell_type": "code",
   "execution_count": null,
   "id": "af9753d9",
   "metadata": {},
   "outputs": [
    {
     "data": {
      "text/plain": [
       "ano\n",
       "<class 'int'>    276\n",
       "Name: count, dtype: int64"
      ]
     },
     "execution_count": 66,
     "metadata": {},
     "output_type": "execute_result"
    }
   ],
   "source": [
    "df_anos_unicos['ano'].apply(type).value_counts()"
   ]
  },
  {
   "cell_type": "markdown",
   "id": "6d38b4ab",
   "metadata": {},
   "source": [
    "2.5 Padronizando title"
   ]
  },
  {
   "cell_type": "code",
   "execution_count": null,
   "id": "b8d2804c",
   "metadata": {},
   "outputs": [
    {
     "data": {
      "text/html": [
       "<div>\n",
       "<style scoped>\n",
       "    .dataframe tbody tr th:only-of-type {\n",
       "        vertical-align: middle;\n",
       "    }\n",
       "\n",
       "    .dataframe tbody tr th {\n",
       "        vertical-align: top;\n",
       "    }\n",
       "\n",
       "    .dataframe thead th {\n",
       "        text-align: right;\n",
       "    }\n",
       "</style>\n",
       "<table border=\"1\" class=\"dataframe\">\n",
       "  <thead>\n",
       "    <tr style=\"text-align: right;\">\n",
       "      <th></th>\n",
       "      <th>author_key</th>\n",
       "      <th>author_name</th>\n",
       "      <th>publish_year</th>\n",
       "      <th>title</th>\n",
       "      <th>subject</th>\n",
       "      <th>autor_padronizado</th>\n",
       "      <th>assunto_padronizado</th>\n",
       "      <th>titulo_padronizado</th>\n",
       "    </tr>\n",
       "  </thead>\n",
       "  <tbody>\n",
       "    <tr>\n",
       "      <th>0</th>\n",
       "      <td>[OL19981A]</td>\n",
       "      <td>[Stephen King]</td>\n",
       "      <td>[1996, 1997, 1998, 1999, 2000, 2001, 2002, 200...</td>\n",
       "      <td>The Green Mile</td>\n",
       "      <td>[horror fiction, fiction, death row inmates, p...</td>\n",
       "      <td>[stephen king]</td>\n",
       "      <td>[horror fiction, fiction, death row inmates, p...</td>\n",
       "      <td>the green mile</td>\n",
       "    </tr>\n",
       "    <tr>\n",
       "      <th>1</th>\n",
       "      <td>[OL53336A]</td>\n",
       "      <td>[Desiderius Erasmus]</td>\n",
       "      <td>[1536, 1540, 1549, 1557, 1560, 1617, 1636, 164...</td>\n",
       "      <td>Moriæ Encomium</td>\n",
       "      <td>[Aspectos religiosos, Bibliography, Catalogs, ...</td>\n",
       "      <td>[desiderius erasmus]</td>\n",
       "      <td>[aspectos religiosos, bibliography, catalogs, ...</td>\n",
       "      <td>moriae encomium</td>\n",
       "    </tr>\n",
       "    <tr>\n",
       "      <th>2</th>\n",
       "      <td>[OL23186A]</td>\n",
       "      <td>[William Makepeace Thackeray]</td>\n",
       "      <td>[1800, 1847, 1848, 1849, 1850, 1865, 1867, 187...</td>\n",
       "      <td>Vanity Fair</td>\n",
       "      <td>[Social life and customs, fiction, Women, fict...</td>\n",
       "      <td>[william makepeace thackeray]</td>\n",
       "      <td>[social life and customs, fiction, women, fict...</td>\n",
       "      <td>vanity fair</td>\n",
       "    </tr>\n",
       "    <tr>\n",
       "      <th>3</th>\n",
       "      <td>[OL115574A, OL2760531A, OL10790687A, OL13002189A]</td>\n",
       "      <td>[Abbé Prévost, F. C. Green, felix crespo, Pr&amp;e...</td>\n",
       "      <td>[1734, 1753, 1787, 1800, 1839, 1840, 1841, 184...</td>\n",
       "      <td>Manon Lescaut</td>\n",
       "      <td>[Fiction, History, France in fiction, French l...</td>\n",
       "      <td>[abbe prevost, f. c. green, felix crespo, pr&amp;e...</td>\n",
       "      <td>[fiction, history, france in fiction, french l...</td>\n",
       "      <td>manon lescaut</td>\n",
       "    </tr>\n",
       "    <tr>\n",
       "      <th>4</th>\n",
       "      <td>[OL25930A]</td>\n",
       "      <td>[Charles Perrault]</td>\n",
       "      <td>[1675, 1697, 1723, 1729, 1741, 1742, 1764, 178...</td>\n",
       "      <td>Les Contes de ma mère l'Oye</td>\n",
       "      <td>[Nursery rhymes, France, Children's stories, F...</td>\n",
       "      <td>[charles perrault]</td>\n",
       "      <td>[nursery rhymes, france, children's stories, f...</td>\n",
       "      <td>les contes de ma mere l'oye</td>\n",
       "    </tr>\n",
       "  </tbody>\n",
       "</table>\n",
       "</div>"
      ],
      "text/plain": [
       "                                          author_key  \\\n",
       "0                                         [OL19981A]   \n",
       "1                                         [OL53336A]   \n",
       "2                                         [OL23186A]   \n",
       "3  [OL115574A, OL2760531A, OL10790687A, OL13002189A]   \n",
       "4                                         [OL25930A]   \n",
       "\n",
       "                                         author_name  \\\n",
       "0                                     [Stephen King]   \n",
       "1                               [Desiderius Erasmus]   \n",
       "2                      [William Makepeace Thackeray]   \n",
       "3  [Abbé Prévost, F. C. Green, felix crespo, Pr&e...   \n",
       "4                                 [Charles Perrault]   \n",
       "\n",
       "                                        publish_year  \\\n",
       "0  [1996, 1997, 1998, 1999, 2000, 2001, 2002, 200...   \n",
       "1  [1536, 1540, 1549, 1557, 1560, 1617, 1636, 164...   \n",
       "2  [1800, 1847, 1848, 1849, 1850, 1865, 1867, 187...   \n",
       "3  [1734, 1753, 1787, 1800, 1839, 1840, 1841, 184...   \n",
       "4  [1675, 1697, 1723, 1729, 1741, 1742, 1764, 178...   \n",
       "\n",
       "                         title  \\\n",
       "0               The Green Mile   \n",
       "1               Moriæ Encomium   \n",
       "2                  Vanity Fair   \n",
       "3                Manon Lescaut   \n",
       "4  Les Contes de ma mère l'Oye   \n",
       "\n",
       "                                             subject  \\\n",
       "0  [horror fiction, fiction, death row inmates, p...   \n",
       "1  [Aspectos religiosos, Bibliography, Catalogs, ...   \n",
       "2  [Social life and customs, fiction, Women, fict...   \n",
       "3  [Fiction, History, France in fiction, French l...   \n",
       "4  [Nursery rhymes, France, Children's stories, F...   \n",
       "\n",
       "                                   autor_padronizado  \\\n",
       "0                                     [stephen king]   \n",
       "1                               [desiderius erasmus]   \n",
       "2                      [william makepeace thackeray]   \n",
       "3  [abbe prevost, f. c. green, felix crespo, pr&e...   \n",
       "4                                 [charles perrault]   \n",
       "\n",
       "                                 assunto_padronizado  \\\n",
       "0  [horror fiction, fiction, death row inmates, p...   \n",
       "1  [aspectos religiosos, bibliography, catalogs, ...   \n",
       "2  [social life and customs, fiction, women, fict...   \n",
       "3  [fiction, history, france in fiction, french l...   \n",
       "4  [nursery rhymes, france, children's stories, f...   \n",
       "\n",
       "            titulo_padronizado  \n",
       "0               the green mile  \n",
       "1              moriae encomium  \n",
       "2                  vanity fair  \n",
       "3                manon lescaut  \n",
       "4  les contes de ma mere l'oye  "
      ]
     },
     "execution_count": 67,
     "metadata": {},
     "output_type": "execute_result"
    }
   ],
   "source": [
    "def padronizando_titulo(titulo):\n",
    "    return unidecode(titulo.lower())\n",
    "\n",
    "df_livros['titulo_padronizado'] = df_livros['title'].apply(padronizando_titulo)\n",
    "df_livros.head()"
   ]
  },
  {
   "cell_type": "code",
   "execution_count": null,
   "id": "d3aa6bf9",
   "metadata": {},
   "outputs": [
    {
     "data": {
      "text/plain": [
       "titulo_padronizado\n",
       "<class 'str'>    25\n",
       "Name: count, dtype: int64"
      ]
     },
     "execution_count": 68,
     "metadata": {},
     "output_type": "execute_result"
    }
   ],
   "source": [
    "df_livros['titulo_padronizado'].apply(type).value_counts()"
   ]
  },
  {
   "cell_type": "code",
   "execution_count": null,
   "id": "af912808",
   "metadata": {},
   "outputs": [
    {
     "name": "stdout",
     "output_type": "stream",
     "text": [
      "<class 'pandas.core.frame.DataFrame'>\n",
      "RangeIndex: 19 entries, 0 to 18\n",
      "Data columns (total 1 columns):\n",
      " #   Column  Non-Null Count  Dtype \n",
      "---  ------  --------------  ----- \n",
      " 0   titulo  19 non-null     object\n",
      "dtypes: object(1)\n",
      "memory usage: 284.0+ bytes\n"
     ]
    }
   ],
   "source": [
    "df_titulos_unicos = pd.DataFrame(sorted(set(df_livros['titulo_padronizado'])), columns=['titulo'])\n",
    "df_titulos_unicos.info()"
   ]
  },
  {
   "cell_type": "code",
   "execution_count": null,
   "id": "4b2c3084",
   "metadata": {},
   "outputs": [
    {
     "name": "stdout",
     "output_type": "stream",
     "text": [
      "['author_key', 'author_name', 'publish_year', 'title', 'subject', 'autor_padronizado', 'assunto_padronizado', 'titulo_padronizado']\n"
     ]
    }
   ],
   "source": [
    "print(df_livros.columns.tolist())\n"
   ]
  },
  {
   "cell_type": "code",
   "execution_count": null,
   "id": "7032cbaf",
   "metadata": {},
   "outputs": [],
   "source": [
    "df_livros = df_livros[['author_key', 'author_name', 'publish_year', 'title', 'subject', 'autor_padronizado', 'titulo_padronizado', 'assunto_padronizado']]"
   ]
  },
  {
   "cell_type": "code",
   "execution_count": null,
   "id": "f31a82e4",
   "metadata": {},
   "outputs": [],
   "source": [
    "df_livros = df_livros.drop(columns=['author_key'])"
   ]
  },
  {
   "cell_type": "code",
   "execution_count": null,
   "id": "e9039e1b",
   "metadata": {},
   "outputs": [
    {
     "name": "stdout",
     "output_type": "stream",
     "text": [
      "['author_name', 'publish_year', 'title', 'subject', 'autor_padronizado', 'titulo_padronizado', 'assunto_padronizado']\n"
     ]
    }
   ],
   "source": [
    "print(df_livros.columns.tolist())"
   ]
  },
  {
   "cell_type": "markdown",
   "id": "a5c2f0ce",
   "metadata": {},
   "source": [
    "2.6 Transformar listas do df_livros em str"
   ]
  },
  {
   "cell_type": "code",
   "execution_count": 90,
   "id": "0fcb7ef1",
   "metadata": {},
   "outputs": [
    {
     "data": {
      "text/html": [
       "<div>\n",
       "<style scoped>\n",
       "    .dataframe tbody tr th:only-of-type {\n",
       "        vertical-align: middle;\n",
       "    }\n",
       "\n",
       "    .dataframe tbody tr th {\n",
       "        vertical-align: top;\n",
       "    }\n",
       "\n",
       "    .dataframe thead th {\n",
       "        text-align: right;\n",
       "    }\n",
       "</style>\n",
       "<table border=\"1\" class=\"dataframe\">\n",
       "  <thead>\n",
       "    <tr style=\"text-align: right;\">\n",
       "      <th></th>\n",
       "      <th>author_key</th>\n",
       "      <th>author_name</th>\n",
       "      <th>publish_year</th>\n",
       "      <th>title</th>\n",
       "      <th>subject</th>\n",
       "      <th>autor_padronizado</th>\n",
       "    </tr>\n",
       "  </thead>\n",
       "  <tbody>\n",
       "    <tr>\n",
       "      <th>0</th>\n",
       "      <td>OL19981A</td>\n",
       "      <td>Stephen King</td>\n",
       "      <td>1996, 1997, 1998, 1999, 2000, 2001, 2002, 2003...</td>\n",
       "      <td>The Green Mile</td>\n",
       "      <td>horror fiction, fiction, death row inmates, pr...</td>\n",
       "      <td>stephen king</td>\n",
       "    </tr>\n",
       "    <tr>\n",
       "      <th>1</th>\n",
       "      <td>OL53336A</td>\n",
       "      <td>Desiderius Erasmus</td>\n",
       "      <td>1536, 1540, 1549, 1557, 1560, 1617, 1636, 1641...</td>\n",
       "      <td>Moriæ Encomium</td>\n",
       "      <td>Aspectos religiosos, Bibliography, Catalogs, C...</td>\n",
       "      <td>desiderius erasmus</td>\n",
       "    </tr>\n",
       "    <tr>\n",
       "      <th>2</th>\n",
       "      <td>OL23186A</td>\n",
       "      <td>William Makepeace Thackeray</td>\n",
       "      <td>1800, 1847, 1848, 1849, 1850, 1865, 1867, 1873...</td>\n",
       "      <td>Vanity Fair</td>\n",
       "      <td>Social life and customs, fiction, Women, ficti...</td>\n",
       "      <td>william makepeace thackeray</td>\n",
       "    </tr>\n",
       "    <tr>\n",
       "      <th>3</th>\n",
       "      <td>OL115574A, OL2760531A, OL10790687A, OL13002189A</td>\n",
       "      <td>Abbé Prévost, F. C. Green, felix crespo, Pr&amp;ea...</td>\n",
       "      <td>1734, 1753, 1787, 1800, 1839, 1840, 1841, 1849...</td>\n",
       "      <td>Manon Lescaut</td>\n",
       "      <td>Fiction, History, France in fiction, French la...</td>\n",
       "      <td>abbe prevost, f. c. green, felix crespo, pr&amp;ea...</td>\n",
       "    </tr>\n",
       "    <tr>\n",
       "      <th>4</th>\n",
       "      <td>OL25930A</td>\n",
       "      <td>Charles Perrault</td>\n",
       "      <td>1675, 1697, 1723, 1729, 1741, 1742, 1764, 1780...</td>\n",
       "      <td>Les Contes de ma mère l'Oye</td>\n",
       "      <td>Nursery rhymes, France, Children's stories, Fr...</td>\n",
       "      <td>charles perrault</td>\n",
       "    </tr>\n",
       "  </tbody>\n",
       "</table>\n",
       "</div>"
      ],
      "text/plain": [
       "                                        author_key  \\\n",
       "0                                         OL19981A   \n",
       "1                                         OL53336A   \n",
       "2                                         OL23186A   \n",
       "3  OL115574A, OL2760531A, OL10790687A, OL13002189A   \n",
       "4                                         OL25930A   \n",
       "\n",
       "                                         author_name  \\\n",
       "0                                       Stephen King   \n",
       "1                                 Desiderius Erasmus   \n",
       "2                        William Makepeace Thackeray   \n",
       "3  Abbé Prévost, F. C. Green, felix crespo, Pr&ea...   \n",
       "4                                   Charles Perrault   \n",
       "\n",
       "                                        publish_year  \\\n",
       "0  1996, 1997, 1998, 1999, 2000, 2001, 2002, 2003...   \n",
       "1  1536, 1540, 1549, 1557, 1560, 1617, 1636, 1641...   \n",
       "2  1800, 1847, 1848, 1849, 1850, 1865, 1867, 1873...   \n",
       "3  1734, 1753, 1787, 1800, 1839, 1840, 1841, 1849...   \n",
       "4  1675, 1697, 1723, 1729, 1741, 1742, 1764, 1780...   \n",
       "\n",
       "                         title  \\\n",
       "0               The Green Mile   \n",
       "1               Moriæ Encomium   \n",
       "2                  Vanity Fair   \n",
       "3                Manon Lescaut   \n",
       "4  Les Contes de ma mère l'Oye   \n",
       "\n",
       "                                             subject  \\\n",
       "0  horror fiction, fiction, death row inmates, pr...   \n",
       "1  Aspectos religiosos, Bibliography, Catalogs, C...   \n",
       "2  Social life and customs, fiction, Women, ficti...   \n",
       "3  Fiction, History, France in fiction, French la...   \n",
       "4  Nursery rhymes, France, Children's stories, Fr...   \n",
       "\n",
       "                                   autor_padronizado  \n",
       "0                                       stephen king  \n",
       "1                                 desiderius erasmus  \n",
       "2                        william makepeace thackeray  \n",
       "3  abbe prevost, f. c. green, felix crespo, pr&ea...  \n",
       "4                                   charles perrault  "
      ]
     },
     "execution_count": 90,
     "metadata": {},
     "output_type": "execute_result"
    }
   ],
   "source": [
    "df_livros = df_livros.map(lambda x: ', '.join(map(str, x)) if isinstance(x, list) else x)\n",
    "df_livros.head()"
   ]
  },
  {
   "cell_type": "markdown",
   "id": "5c4b7462",
   "metadata": {},
   "source": [
    "3. Conexão com MySQL"
   ]
  },
  {
   "cell_type": "code",
   "execution_count": 74,
   "id": "3f4adb00",
   "metadata": {},
   "outputs": [
    {
     "name": "stdout",
     "output_type": "stream",
     "text": [
      "Requirement already satisfied: sqlalchemy in c:\\users\\basil\\appdata\\local\\programs\\python\\python313\\lib\\site-packages (2.0.43)\n",
      "Requirement already satisfied: greenlet>=1 in c:\\users\\basil\\appdata\\local\\programs\\python\\python313\\lib\\site-packages (from sqlalchemy) (3.2.4)\n",
      "Requirement already satisfied: typing-extensions>=4.6.0 in c:\\users\\basil\\appdata\\local\\programs\\python\\python313\\lib\\site-packages (from sqlalchemy) (4.15.0)\n",
      "Usuário: root\n",
      "Senha: bar2016\n",
      "Host: localhost\n",
      "Porta: 3306\n",
      "Banco: projeto_api_livros\n"
     ]
    }
   ],
   "source": [
    "!pip install sqlalchemy\n",
    "\n",
    "from dotenv import load_dotenv\n",
    "import os\n",
    "from sqlalchemy import create_engine\n",
    "\n",
    "# Carrega as variáveis do .env\n",
    "load_dotenv()\n",
    "\n",
    "# Lê as variáveis\n",
    "usuario = os.getenv('MYSQL_USUARIO')\n",
    "senha = os.getenv('MYSQL_SENHA')\n",
    "host = os.getenv('MYSQL_HOST')\n",
    "porta = os.getenv('MYSQL_PORTA')\n",
    "banco = os.getenv('MYSQL_BANCO')\n",
    "\n",
    "print(\"Usuário:\", usuario)\n",
    "print(\"Senha:\", senha)\n",
    "print(\"Host:\", host)\n",
    "print(\"Porta:\", porta)\n",
    "print(\"Banco:\", banco)\n",
    "\n"
   ]
  },
  {
   "cell_type": "code",
   "execution_count": 75,
   "id": "d816582a",
   "metadata": {},
   "outputs": [
    {
     "name": "stdout",
     "output_type": "stream",
     "text": [
      "Requirement already satisfied: pymysql in c:\\users\\basil\\appdata\\local\\programs\\python\\python313\\lib\\site-packages (1.1.2)\n"
     ]
    }
   ],
   "source": [
    "# Cria a conexão\n",
    "!pip install pymysql\n",
    "\n"
   ]
  },
  {
   "cell_type": "code",
   "execution_count": 76,
   "id": "df3f002b",
   "metadata": {},
   "outputs": [],
   "source": [
    "engine = create_engine(f'mysql+pymysql://{usuario}:{senha}@{host}:{porta}/{banco}')"
   ]
  },
  {
   "cell_type": "code",
   "execution_count": 91,
   "id": "d504b693",
   "metadata": {},
   "outputs": [
    {
     "name": "stdout",
     "output_type": "stream",
     "text": [
      "Todos os DataFrames foram exportados com sucesso para o MySQL!\n"
     ]
    }
   ],
   "source": [
    "# Exporta df_livros\n",
    "df_livros.to_sql(name='livros', con=engine, if_exists='replace', index=False)\n",
    "\n",
    "# Exporta df_titulos_unicos\n",
    "df_titulos_unicos.to_sql(name='titulos_unicos', con=engine, if_exists='replace', index=False)\n",
    "\n",
    "# Exporta df_autores_unicos\n",
    "df_autores_unicos.to_sql(name='autores_unicos', con=engine, if_exists='replace', index=False)\n",
    "\n",
    "# Exporta df_anos_unicos\n",
    "df_anos_unicos.to_sql(name='anos_unicos', con=engine, if_exists='replace', index=False)\n",
    "\n",
    "# Exporta df_assuntos_unicos\n",
    "df_assuntos_unicos.to_sql(name='assuntos_unicos', con=engine, if_exists='replace', index=False)\n",
    "\n",
    "\n",
    "print(\"Todos os DataFrames foram exportados com sucesso para o MySQL!\")"
   ]
  }
 ],
 "metadata": {
  "kernelspec": {
   "display_name": "Python 3",
   "language": "python",
   "name": "python3"
  },
  "language_info": {
   "codemirror_mode": {
    "name": "ipython",
    "version": 3
   },
   "file_extension": ".py",
   "mimetype": "text/x-python",
   "name": "python",
   "nbconvert_exporter": "python",
   "pygments_lexer": "ipython3",
   "version": "3.13.7"
  }
 },
 "nbformat": 4,
 "nbformat_minor": 5
}
